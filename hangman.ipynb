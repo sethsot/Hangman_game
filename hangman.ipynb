{
 "cells": [
  {
   "cell_type": "code",
   "execution_count": 3,
   "metadata": {},
   "outputs": [],
   "source": [
    "# create a list called word_list and randomly chose a word from the word_list\n",
    "# we import the random module, chose at random using .choice \n",
    "# we check the length of the chosen word with len()\n",
    "import random\n",
    "word_list = [\"aardvark\", \"baboon\", \"camel\"]\n",
    "chosen_word = random.choice(word_list)\n",
    "word_length = len(chosen_word)"
   ]
  },
  {
   "cell_type": "code",
   "execution_count": 4,
   "metadata": {},
   "outputs": [
    {
     "name": "stdout",
     "output_type": "stream",
     "text": [
      "Pssst, the solution is aardvark.\n"
     ]
    }
   ],
   "source": [
    "#Testing code\n",
    "print(f'Pssst, the solution is {chosen_word}.')"
   ]
  },
  {
   "cell_type": "code",
   "execution_count": 5,
   "metadata": {},
   "outputs": [],
   "source": [
    "#Create blanks\n",
    "display = []\n",
    "for _ in range(word_length):\n",
    "    display += \"_\""
   ]
  },
  {
   "cell_type": "code",
   "execution_count": 6,
   "metadata": {},
   "outputs": [],
   "source": [
    "# Use a while loop to let the user guess again.\n",
    "# The loop should only stop once the user has guessed all the letters in the chosen_word and 'display' has no more blanks (\"_\"). Then you can tell the user they've won.\n",
    "end_of_game = False"
   ]
  },
  {
   "cell_type": "code",
   "execution_count": 7,
   "metadata": {},
   "outputs": [
    {
     "name": "stdout",
     "output_type": "stream",
     "text": [
      "['a', 'a', '_', '_', '_', 'a', '_', '_']\n",
      "['a', 'a', '_', '_', '_', 'a', '_', '_']\n",
      "['a', 'a', 'r', '_', '_', 'a', 'r', '_']\n",
      "['a', 'a', 'r', 'd', '_', 'a', 'r', '_']\n",
      "['a', 'a', 'r', 'd', '_', 'a', 'r', '_']\n",
      "['a', 'a', 'r', 'd', 'v', 'a', 'r', '_']\n",
      "['a', 'a', 'r', 'd', 'v', 'a', 'r', '_']\n",
      "['a', 'a', 'r', 'd', 'v', 'a', 'r', 'k']\n",
      "You win.\n"
     ]
    }
   ],
   "source": [
    "# ask user to guess a word and store it in 'guess'\n",
    "# make guess word lower case\n",
    "\n",
    "\n",
    "\n",
    "while not end_of_game:\n",
    "    guess = input(\"Guess a letter: \").lower()\n",
    "\n",
    "    #Check guessed letter\n",
    "    for position in range(word_length):\n",
    "        letter = chosen_word[position]\n",
    "        #print(f\"Current position: {position}\\n Current letter: {letter}\\n Guessed letter: {guess}\")\n",
    "        if letter == guess:\n",
    "            display[position] = letter\n",
    "\n",
    "    print(display)\n",
    "\n",
    "    #Check if there are no more \"_\" left in 'display'. Then all letters have been guessed.\n",
    "    if \"_\" not in display:\n",
    "        end_of_game = True\n",
    "        print(\"You win.\")"
   ]
  }
 ],
 "metadata": {
  "kernelspec": {
   "display_name": "Python 3",
   "language": "python",
   "name": "python3"
  },
  "language_info": {
   "codemirror_mode": {
    "name": "ipython",
    "version": 3
   },
   "file_extension": ".py",
   "mimetype": "text/x-python",
   "name": "python",
   "nbconvert_exporter": "python",
   "pygments_lexer": "ipython3",
   "version": "3.11.1"
  }
 },
 "nbformat": 4,
 "nbformat_minor": 2
}
